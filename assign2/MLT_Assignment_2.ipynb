{
  "nbformat": 4,
  "nbformat_minor": 0,
  "metadata": {
    "colab": {
      "provenance": []
    },
    "kernelspec": {
      "name": "python3",
      "display_name": "Python 3"
    },
    "language_info": {
      "name": "python"
    }
  },
  "cells": [
    {
      "cell_type": "code",
      "execution_count": 1,
      "metadata": {
        "id": "7Mlzi7SuFvgc"
      },
      "outputs": [],
      "source": [
        "import pandas as pd\n",
        "\n",
        "\n",
        "demographics_df = pd.read_csv('demographic.csv', encoding='latin1')\n",
        "medications_df = pd.read_csv('medications.csv', encoding='latin1')\n",
        "questionnaire_df = pd.read_csv('questionnaire.csv', encoding='latin1')"
      ]
    },
    {
      "cell_type": "code",
      "source": [
        "print(demographics_df.head())\n",
        "print(medications_df.head())\n",
        "print(questionnaire_df.head())"
      ],
      "metadata": {
        "colab": {
          "base_uri": "https://localhost:8080/"
        },
        "id": "PPY-toO_Fx9D",
        "outputId": "c3a55eab-58a6-40e6-880e-221f078f94f2"
      },
      "execution_count": 2,
      "outputs": [
        {
          "output_type": "stream",
          "name": "stdout",
          "text": [
            "    SEQN  SDDSRVYR  RIDSTATR  RIAGENDR  RIDAGEYR  RIDAGEMN  RIDRETH1  \\\n",
            "0  73557         8         2         1        69       NaN         4   \n",
            "1  73558         8         2         1        54       NaN         3   \n",
            "2  73559         8         2         1        72       NaN         3   \n",
            "3  73560         8         2         1         9       NaN         3   \n",
            "4  73561         8         2         2        73       NaN         3   \n",
            "\n",
            "   RIDRETH3  RIDEXMON  RIDEXAGM  ...  DMDHREDU  DMDHRMAR  DMDHSEDU  \\\n",
            "0         4       1.0       NaN  ...       3.0       4.0       NaN   \n",
            "1         3       1.0       NaN  ...       3.0       1.0       1.0   \n",
            "2         3       2.0       NaN  ...       4.0       1.0       3.0   \n",
            "3         3       1.0     119.0  ...       3.0       1.0       4.0   \n",
            "4         3       1.0       NaN  ...       5.0       1.0       5.0   \n",
            "\n",
            "       WTINT2YR      WTMEC2YR  SDMVPSU  SDMVSTRA  INDHHIN2  INDFMIN2  INDFMPIR  \n",
            "0  13281.237386  13481.042095        1       112       4.0       4.0      0.84  \n",
            "1  23682.057386  24471.769625        1       108       7.0       7.0      1.78  \n",
            "2  57214.803319  57193.285376        1       109      10.0      10.0      4.51  \n",
            "3  55201.178592  55766.512438        2       109       9.0       9.0      2.52  \n",
            "4  63709.667069  65541.871229        2       116      15.0      15.0      5.00  \n",
            "\n",
            "[5 rows x 47 columns]\n",
            "    SEQN  RXDUSE           RXDDRUG RXDDRGID  RXQSEEN  RXDDAYS RXDRSC1 RXDRSC2  \\\n",
            "0  73557       1             99999      NaN      NaN      NaN     NaN     NaN   \n",
            "1  73557       1           INSULIN   d00262      2.0   1460.0     E11     NaN   \n",
            "2  73558       1        GABAPENTIN   d03182      1.0    243.0  G25.81     NaN   \n",
            "3  73558       1  INSULIN GLARGINE   d04538      1.0    365.0     E11     NaN   \n",
            "4  73558       1        OLMESARTAN   d04801      1.0     14.0   E11.2     NaN   \n",
            "\n",
            "  RXDRSC3                                            RXDRSD1 RXDRSD2 RXDRSD3  \\\n",
            "0     NaN                                                NaN     NaN     NaN   \n",
            "1     NaN                           Type 2 diabetes mellitus     NaN     NaN   \n",
            "2     NaN                             Restless legs syndrome     NaN     NaN   \n",
            "3     NaN                           Type 2 diabetes mellitus     NaN     NaN   \n",
            "4     NaN  Type 2 diabetes mellitus with kidney complicat...     NaN     NaN   \n",
            "\n",
            "   RXDCOUNT  \n",
            "0       2.0  \n",
            "1       2.0  \n",
            "2       4.0  \n",
            "3       4.0  \n",
            "4       4.0  \n",
            "    SEQN  ACD011A  ACD011B  ACD011C  ACD040  ACD110  ALQ101  ALQ110  ALQ120Q  \\\n",
            "0  73557      1.0      NaN      NaN     NaN     NaN     1.0     NaN      1.0   \n",
            "1  73558      1.0      NaN      NaN     NaN     NaN     1.0     NaN      7.0   \n",
            "2  73559      1.0      NaN      NaN     NaN     NaN     1.0     NaN      0.0   \n",
            "3  73560      1.0      NaN      NaN     NaN     NaN     NaN     NaN      NaN   \n",
            "4  73561      1.0      NaN      NaN     NaN     NaN     1.0     NaN      0.0   \n",
            "\n",
            "   ALQ120U  ...  WHD080U  WHD080L  WHD110  WHD120  WHD130  WHD140  WHQ150  \\\n",
            "0      3.0  ...      NaN     40.0   270.0   200.0    69.0   270.0    62.0   \n",
            "1      1.0  ...      NaN      NaN   240.0   250.0    72.0   250.0    25.0   \n",
            "2      NaN  ...      NaN      NaN   180.0   190.0    70.0   228.0    35.0   \n",
            "3      NaN  ...      NaN      NaN     NaN     NaN     NaN     NaN     NaN   \n",
            "4      NaN  ...      NaN      NaN   150.0   135.0    67.0   170.0    60.0   \n",
            "\n",
            "   WHQ030M  WHQ500  WHQ520  \n",
            "0      NaN     NaN     NaN  \n",
            "1      NaN     NaN     NaN  \n",
            "2      NaN     NaN     NaN  \n",
            "3      3.0     3.0     3.0  \n",
            "4      NaN     NaN     NaN  \n",
            "\n",
            "[5 rows x 953 columns]\n"
          ]
        }
      ]
    },
    {
      "cell_type": "code",
      "source": [
        "\n",
        "demographics_filtered = demographics_df[['SEQN', 'RIAGENDR', 'RIDAGEYR']].rename(\n",
        "    columns={'RIAGENDR': 'Gender', 'RIDAGEYR': 'Age'})\n",
        "\n",
        "\n",
        "medications_filtered = medications_df[['SEQN', 'RXDDRUG', 'RXDRSC1', 'RXDRSD1']]\n",
        "\n",
        "\n",
        "questionnaire_filtered = questionnaire_df.filter(like=\"ACD\").copy()\n",
        "questionnaire_filtered.insert(0, 'SEQN', questionnaire_df['SEQN'])"
      ],
      "metadata": {
        "id": "2isiySzKFx_p"
      },
      "execution_count": 3,
      "outputs": []
    },
    {
      "cell_type": "code",
      "source": [
        "merged_data = demographics_filtered.merge(\n",
        "    medications_filtered, on='SEQN', how='left').merge(\n",
        "    questionnaire_filtered, on='SEQN', how='left')\n",
        "\n",
        "\n",
        "print(merged_data.head())"
      ],
      "metadata": {
        "colab": {
          "base_uri": "https://localhost:8080/"
        },
        "id": "GmQadze_FyCr",
        "outputId": "e60d0dae-d048-47fd-a10a-241d9637f652"
      },
      "execution_count": 4,
      "outputs": [
        {
          "output_type": "stream",
          "name": "stdout",
          "text": [
            "    SEQN  Gender  Age           RXDDRUG RXDRSC1  \\\n",
            "0  73557       1   69             99999     NaN   \n",
            "1  73557       1   69           INSULIN     E11   \n",
            "2  73558       1   54        GABAPENTIN  G25.81   \n",
            "3  73558       1   54  INSULIN GLARGINE     E11   \n",
            "4  73558       1   54        OLMESARTAN   E11.2   \n",
            "\n",
            "                                             RXDRSD1  ACD011A  ACD011B  \\\n",
            "0                                                NaN      1.0      NaN   \n",
            "1                           Type 2 diabetes mellitus      1.0      NaN   \n",
            "2                             Restless legs syndrome      1.0      NaN   \n",
            "3                           Type 2 diabetes mellitus      1.0      NaN   \n",
            "4  Type 2 diabetes mellitus with kidney complicat...      1.0      NaN   \n",
            "\n",
            "   ACD011C  ACD040  ACD110  \n",
            "0      NaN     NaN     NaN  \n",
            "1      NaN     NaN     NaN  \n",
            "2      NaN     NaN     NaN  \n",
            "3      NaN     NaN     NaN  \n",
            "4      NaN     NaN     NaN  \n"
          ]
        }
      ]
    },
    {
      "cell_type": "code",
      "source": [
        "\n",
        "def has_cardiovascular_issue(row):\n",
        "    if pd.notnull(row['RXDRSD1']) and any(keyword in str(row['RXDRSD1']).lower() for keyword in ['heart', 'cardio']):\n",
        "        return True\n",
        "    return False\n",
        "\n",
        "\n",
        "merged_data['CardiovascularIssue'] = merged_data.apply(has_cardiovascular_issue, axis=1)\n",
        "\n",
        "\n",
        "print(merged_data[['SEQN', 'CardiovascularIssue']].head())"
      ],
      "metadata": {
        "colab": {
          "base_uri": "https://localhost:8080/"
        },
        "id": "sVoNw_ViFyFd",
        "outputId": "54fcb0a3-b435-4264-aee2-1ad940ffc260"
      },
      "execution_count": 5,
      "outputs": [
        {
          "output_type": "stream",
          "name": "stdout",
          "text": [
            "    SEQN  CardiovascularIssue\n",
            "0  73557                False\n",
            "1  73557                False\n",
            "2  73558                False\n",
            "3  73558                False\n",
            "4  73558                False\n"
          ]
        }
      ]
    },
    {
      "cell_type": "code",
      "source": [
        "\n",
        "bins = [0, 20, 30, 40, 50, 60, 70, float('inf')]\n",
        "labels = ['10-20', '21-30', '31-40', '41-50', '51-60', '61-70', 'Above 70']\n",
        "merged_data['AgeRange'] = pd.cut(merged_data['Age'], bins=bins, labels=labels, right=False)\n",
        "\n",
        "\n",
        "age_gender_distribution = merged_data.groupby(['AgeRange', 'Gender', 'CardiovascularIssue']).size().unstack(fill_value=0)\n",
        "\n",
        "\n",
        "print(age_gender_distribution)\n"
      ],
      "metadata": {
        "colab": {
          "base_uri": "https://localhost:8080/"
        },
        "id": "6fQ34GfJFyIR",
        "outputId": "4997e459-d3ee-437d-cc62-00ec9f5e92f1"
      },
      "execution_count": 6,
      "outputs": [
        {
          "output_type": "stream",
          "name": "stdout",
          "text": [
            "CardiovascularIssue  False  True \n",
            "AgeRange Gender                  \n",
            "10-20    1            2580      0\n",
            "         2            2389      2\n",
            "21-30    1             532      0\n",
            "         2             609      0\n",
            "31-40    1             670      2\n",
            "         2             807      2\n",
            "41-50    1             804     10\n",
            "         2            1172     15\n",
            "51-60    1            1158     28\n",
            "         2            1577     29\n",
            "61-70    1            1626     46\n",
            "         2            1836     30\n",
            "Above 70 1            1838    129\n",
            "         2            2226     77\n"
          ]
        },
        {
          "output_type": "stream",
          "name": "stderr",
          "text": [
            "<ipython-input-6-370c23d81e84>:7: FutureWarning: The default of observed=False is deprecated and will be changed to True in a future version of pandas. Pass observed=False to retain current behavior or observed=True to adopt the future default and silence this warning.\n",
            "  age_gender_distribution = merged_data.groupby(['AgeRange', 'Gender', 'CardiovascularIssue']).size().unstack(fill_value=0)\n"
          ]
        }
      ]
    },
    {
      "cell_type": "code",
      "source": [
        "\n",
        "total_population = len(merged_data)\n",
        "\n",
        "\n",
        "cardio_distribution = merged_data[merged_data['CardiovascularIssue']].groupby(['AgeRange', 'Gender']).size()\n",
        "\n",
        "\n",
        "print(f\"Total Population: {total_population}\")\n",
        "print(\"Cardiovascular Issues by Age Range and Gender:\")\n",
        "print(cardio_distribution)\n"
      ],
      "metadata": {
        "colab": {
          "base_uri": "https://localhost:8080/"
        },
        "id": "-ey7GgsmFyK7",
        "outputId": "ebdda58e-f631-4af7-9550-2607c683a941"
      },
      "execution_count": 7,
      "outputs": [
        {
          "output_type": "stream",
          "name": "stdout",
          "text": [
            "Total Population: 20194\n",
            "Cardiovascular Issues by Age Range and Gender:\n",
            "AgeRange  Gender\n",
            "10-20     1           0\n",
            "          2           2\n",
            "21-30     1           0\n",
            "          2           0\n",
            "31-40     1           2\n",
            "          2           2\n",
            "41-50     1          10\n",
            "          2          15\n",
            "51-60     1          28\n",
            "          2          29\n",
            "61-70     1          46\n",
            "          2          30\n",
            "Above 70  1         129\n",
            "          2          77\n",
            "dtype: int64\n"
          ]
        },
        {
          "output_type": "stream",
          "name": "stderr",
          "text": [
            "<ipython-input-7-1617221601fb>:5: FutureWarning: The default of observed=False is deprecated and will be changed to True in a future version of pandas. Pass observed=False to retain current behavior or observed=True to adopt the future default and silence this warning.\n",
            "  cardio_distribution = merged_data[merged_data['CardiovascularIssue']].groupby(['AgeRange', 'Gender']).size()\n"
          ]
        }
      ]
    },
    {
      "cell_type": "code",
      "source": [
        "from sklearn.model_selection import train_test_split\n",
        "from sklearn.ensemble import RandomForestClassifier\n",
        "from sklearn.metrics import accuracy_score, precision_score\n",
        "\n",
        "\n",
        "X = merged_data[['Age', 'Gender']].fillna(0)\n",
        "y = merged_data['CardiovascularIssue'].astype(int)\n",
        "\n",
        "\n",
        "X_train, X_test, y_train, y_test = train_test_split(X, y, test_size=0.2, random_state=42)\n",
        "\n",
        "\n",
        "model = RandomForestClassifier(random_state=42)\n",
        "model.fit(X_train, y_train)\n",
        "\n",
        "\n",
        "y_pred = model.predict(X_test)\n",
        "print(f\"Accuracy: {accuracy_score(y_test, y_pred)}\")\n",
        "\n"
      ],
      "metadata": {
        "colab": {
          "base_uri": "https://localhost:8080/"
        },
        "id": "NP_bjt85FyNx",
        "outputId": "7b8d8a29-8bd8-430f-f89c-64f3e6b51a1a"
      },
      "execution_count": 9,
      "outputs": [
        {
          "output_type": "stream",
          "name": "stdout",
          "text": [
            "Accuracy: 0.9824213914335231\n"
          ]
        }
      ]
    },
    {
      "cell_type": "code",
      "source": [
        "from sklearn.metrics import (\n",
        "    accuracy_score,\n",
        "    precision_score,\n",
        "    recall_score,\n",
        "    f1_score,\n",
        "    confusion_matrix,\n",
        "    ConfusionMatrixDisplay\n",
        ")\n",
        "import matplotlib.pyplot as plt"
      ],
      "metadata": {
        "id": "Xt6YMauhFyQo"
      },
      "execution_count": 10,
      "outputs": []
    },
    {
      "cell_type": "code",
      "source": [
        "accuracy = accuracy_score(y_test, y_pred)\n",
        "\n",
        "print(f\"Accuracy: {accuracy}\")\n"
      ],
      "metadata": {
        "colab": {
          "base_uri": "https://localhost:8080/"
        },
        "id": "bnhmPBSGFyTq",
        "outputId": "c94125c1-07e9-4a52-bb9c-138d97f57a02"
      },
      "execution_count": 13,
      "outputs": [
        {
          "output_type": "stream",
          "name": "stdout",
          "text": [
            "Accuracy: 0.9824213914335231\n"
          ]
        }
      ]
    },
    {
      "cell_type": "code",
      "source": [
        "\n",
        "cm = confusion_matrix(y_test, y_pred)\n",
        "disp = ConfusionMatrixDisplay(confusion_matrix=cm, display_labels=model.classes_)\n",
        "disp.plot(cmap=plt.cm.Blues)\n",
        "\n",
        "\n",
        "plt.title(\"Confusion Matrix\")\n",
        "plt.show()"
      ],
      "metadata": {
        "colab": {
          "base_uri": "https://localhost:8080/",
          "height": 472
        },
        "id": "v0R7DTbPFyWY",
        "outputId": "27eb991d-8966-4020-c5ab-7a66ab7b5fad"
      },
      "execution_count": 14,
      "outputs": [
        {
          "output_type": "display_data",
          "data": {
            "text/plain": [
              "<Figure size 640x480 with 2 Axes>"
            ],
            "image/png": "[encoded data removed]"
          },
          "metadata": {}
        }
      ]
    },
    {
      "cell_type": "code",
      "source": [],
      "metadata": {
        "id": "Y5G8KaKZFyZP"
      },
      "execution_count": null,
      "outputs": []
    },
    {
      "cell_type": "code",
      "source": [],
      "metadata": {
        "id": "5XK9lOnWFycj"
      },
      "execution_count": null,
      "outputs": []
    },
    {
      "cell_type": "code",
      "source": [],
      "metadata": {
        "id": "COnu0wb9FyfO"
      },
      "execution_count": null,
      "outputs": []
    },
    {
      "cell_type": "code",
      "source": [],
      "metadata": {
        "id": "22Gprn1yFyh0"
      },
      "execution_count": null,
      "outputs": []
    },
    {
      "cell_type": "code",
      "source": [],
      "metadata": {
        "id": "mP3JXnZXFykZ"
      },
      "execution_count": null,
      "outputs": []
    },
    {
      "cell_type": "code",
      "source": [],
      "metadata": {
        "id": "6FPQTOqdFynz"
      },
      "execution_count": null,
      "outputs": []
    },
    {
      "cell_type": "code",
      "source": [],
      "metadata": {
        "id": "4B7IPyRtFyvh"
      },
      "execution_count": null,
      "outputs": []
    }
  ]
}